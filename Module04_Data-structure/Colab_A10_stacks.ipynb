{
  "cells": [
    {
      "cell_type": "markdown",
      "metadata": {
        "id": "view-in-github",
        "colab_type": "text"
      },
      "source": [
        "<a href=\"https://colab.research.google.com/github/Soundarya0512/A1_Python-Review-/blob/main/Module04_Data-structure/Colab_A10_stacks.ipynb\" target=\"_parent\"><img src=\"https://colab.research.google.com/assets/colab-badge.svg\" alt=\"Open In Colab\"/></a>"
      ]
    },
    {
      "cell_type": "markdown",
      "source": [
        "##**Stack Questions**"
      ],
      "metadata": {
        "id": "cP32wAV3Yi-4"
      }
    },
    {
      "cell_type": "markdown",
      "source": [
        "## Question 1: Write a function to sort a stack."
      ],
      "metadata": {
        "id": "KqdNjm1oY_ss"
      }
    },
    {
      "cell_type": "code",
      "source": [
        "from collections import deque\n",
        "def sort_stack(stack):\n",
        "  stack1=deque()\n",
        "  stack2=deque()\n",
        "  for i in stack:\n",
        "    stack1.append(i)\n",
        "  first_ele=stack1.pop()\n",
        "  stack2.append(first_ele)\n",
        "  while len(stack1)!=0:\n",
        "    while len(stack2)>0 and stack1[-1]<=stack2[-1]:\n",
        "      stack1.appendleft(stack2.pop())\n",
        "    stack2.append(stack1.pop())\n",
        "  return stack2\n",
        "stack = [34, 3, 31, 98, 92, 23]\n",
        "print(sort_stack(stack))"
      ],
      "metadata": {
        "id": "mb9K46p3Ym0N",
        "outputId": "9a98c2b8-eaa3-4291-fbbf-9fc2cb458b73",
        "colab": {
          "base_uri": "https://localhost:8080/"
        }
      },
      "execution_count": 5,
      "outputs": [
        {
          "output_type": "stream",
          "name": "stdout",
          "text": [
            "deque([3, 23, 31, 34, 92, 98])\n"
          ]
        }
      ]
    },
    {
      "cell_type": "markdown",
      "metadata": {
        "id": "jFxb6ss_Whwl"
      },
      "source": [
        "## Question 2: Depict the following image as a list.\n",
        "\n",
        "<img src=\"https://miro.medium.com/max/1050/1*XifPIMxbamGKhz5UAEdz2w.png\">\n",
        "\n",
        "#### Queue\n",
        "1. Add the number 9 to the list.\n",
        "2. Remove the first number (7) from the list.\n",
        "\n",
        "#### Stack\n",
        "3. Add the number 4 to the same list.\n",
        "4. Remove the last number added (4) from the list."
      ]
    },
    {
      "cell_type": "code",
      "execution_count": 7,
      "metadata": {
        "id": "XOm7YLTEWhwm",
        "outputId": "8ae357c0-d2c3-42cc-9796-f8fdc81cf4ce",
        "colab": {
          "base_uri": "https://localhost:8080/"
        }
      },
      "outputs": [
        {
          "output_type": "stream",
          "name": "stdout",
          "text": [
            "[7, 3, 1, 6, 8, 9]\n",
            "[3, 1, 6, 8, 9]\n",
            "[3, 1, 6, 8, 9, 4]\n",
            "[3, 1, 6, 8, 9]\n"
          ]
        }
      ],
      "source": [
        "#Your Answer:\n",
        "queue=[7,3,1,6,8]\n",
        "#QUEUE\n",
        "queue.append(9)\n",
        "print(queue)\n",
        "queue.pop(0)\n",
        "print(queue)\n",
        "#STACK\n",
        "queue.append(4)\n",
        "print(queue)\n",
        "queue.pop()\n",
        "print(queue)\n",
        "\n"
      ]
    },
    {
      "cell_type": "markdown",
      "metadata": {
        "id": "tQ3kgHVtWhwn"
      },
      "source": [
        "#### Question 3: Nodes\n",
        "\n",
        "<img src=\"https://encrypted-tbn0.gstatic.com/images?q=tbn:ANd9GcQW8-twGk0hCILE-muHBnG93hZJh2Qvgs7pVA&s\">\n",
        "\n",
        "1. Use a data structure of your choice to denote the different nodes.\n",
        "\n",
        "2. Create a function that sums all of the \"children\". Test with the node 10 (Expected answer is 37).\n"
      ]
    },
    {
      "cell_type": "code",
      "source": [],
      "metadata": {
        "id": "XeDbClUPF5Dz"
      },
      "execution_count": null,
      "outputs": []
    },
    {
      "cell_type": "code",
      "execution_count": 89,
      "metadata": {
        "id": "UU0rjzjXWhwn",
        "outputId": "92d265b3-ab98-494e-8be9-9e22dd90887a",
        "colab": {
          "base_uri": "https://localhost:8080/",
          "height": 960
        }
      },
      "outputs": [
        {
          "output_type": "display_data",
          "data": {
            "text/plain": [
              "<Figure size 640x480 with 1 Axes>"
            ],
            "image/png": "[encoded data removed]"
          },
          "metadata": {}
        },
        {
          "output_type": "stream",
          "name": "stdout",
          "text": [
            "First = [3, 10]\n",
            "Second= [3, 10, 1, 6]\n",
            "Third =  [10, 1, 6]\n",
            "First = [10, 1, 6]\n",
            "Second= [10, 1, 6, 14]\n",
            "Third =  [1, 6, 14]\n",
            "First = [1, 6, 14]\n",
            "Second= [1, 6, 14]\n",
            "Third =  [6, 14]\n",
            "First = [6, 14]\n",
            "Second= [6, 14, 7, 4]\n",
            "Third =  [14, 7, 4]\n",
            "First = [14, 7, 4]\n",
            "Second= [14, 7, 4, 13]\n",
            "Third =  [7, 4, 13]\n",
            "First = [7, 4, 13]\n",
            "Second= [7, 4, 13]\n",
            "Third =  [4, 13]\n",
            "First = [4, 13]\n",
            "Second= [4, 13]\n",
            "Third =  [13]\n",
            "First = [13]\n",
            "Second= [13]\n",
            "Third =  []\n",
            "58\n"
          ]
        }
      ],
      "source": [
        "#Your Answer:\n",
        "#Use a data structure of your choice to denote the different nodes.\n",
        "import networkx as nx\n",
        "import matplotlib.pyplot as plt\n",
        "graph={8:[3,10],\n",
        "      3:[1,6],\n",
        "      6:[7,4],\n",
        "      10:[14],\n",
        "      14:[13]\n",
        "      }\n",
        "G = nx.Graph(graph)\n",
        "pos = nx.spring_layout(G)\n",
        "nx.draw(G, pos, with_labels=True)\n",
        "plt.show()\n",
        "\n",
        "#print(G.edges)\n",
        "#Create a function that sums all of the \"children\". Test with the node 10 (Expected answer is 37).\n",
        "first_node=[]\n",
        "first_node=graph.get(8)\n",
        "#print(first_node)\n",
        "\n",
        "sum=0\n",
        "#List to keep track of all the nodes\n",
        "temp=[]\n",
        "\n",
        "#Logic to add the children of only the root node\n",
        "for node in range(len(first_node)):\n",
        "  #print(first_node[node])\n",
        "  sum=sum+first_node[node]\n",
        "  temp.append(first_node[node])\n",
        "  #print(\"first_sum\",sum)\n",
        "  #print(\"temp\",temp)\n",
        "i=0\n",
        "#while i<len(temp) and graph.get(temp[i])!=None:\n",
        "\n",
        "while len(temp) !=0:\n",
        "  print(\"First =\", temp)\n",
        "  #process node only if it has a child\n",
        "  if(graph.get(temp[0])!=None):\n",
        "    #keep adding children of every node by processing one node at a time\n",
        "    for child in graph.get(temp[0]):\n",
        "      sum=sum+child\n",
        "      temp.append(child)\n",
        "  print(\"Second=\",temp)\n",
        "  #remove processed node from the list\n",
        "  temp = temp[1:]\n",
        "  print(\"Third = \", temp)\n",
        "print(sum)\n"
      ]
    }
  ],
  "metadata": {
    "hide_input": false,
    "kernelspec": {
      "display_name": "Python 3",
      "language": "python",
      "name": "python3"
    },
    "language_info": {
      "codemirror_mode": {
        "name": "ipython",
        "version": 3
      },
      "file_extension": ".py",
      "mimetype": "text/x-python",
      "name": "python",
      "nbconvert_exporter": "python",
      "pygments_lexer": "ipython3",
      "version": "3.8.3"
    },
    "toc": {
      "base_numbering": 1,
      "nav_menu": {},
      "number_sections": true,
      "sideBar": true,
      "skip_h1_title": false,
      "title_cell": "Table of Contents",
      "title_sidebar": "Contents",
      "toc_cell": false,
      "toc_position": {},
      "toc_section_display": true,
      "toc_window_display": false
    },
    "colab": {
      "provenance": [],
      "include_colab_link": true
    }
  },
  "nbformat": 4,
  "nbformat_minor": 0
}