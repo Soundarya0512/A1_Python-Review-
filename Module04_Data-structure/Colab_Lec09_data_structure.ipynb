{
  "cells": [
    {
      "cell_type": "markdown",
      "metadata": {
        "id": "view-in-github",
        "colab_type": "text"
      },
      "source": [
        "<a href=\"https://colab.research.google.com/github/Soundarya0512/A1_Python-Review-/blob/main/Module04_Data-structure/Colab_Lec09_data_structure.ipynb\" target=\"_parent\"><img src=\"https://colab.research.google.com/assets/colab-badge.svg\" alt=\"Open In Colab\"/></a>"
      ]
    },
    {
      "cell_type": "markdown",
      "source": [
        "# **Data Structure**"
      ],
      "metadata": {
        "id": "kgPHLRXRWiC5"
      }
    },
    {
      "cell_type": "markdown",
      "metadata": {
        "id": "hCsvNg5v2I6K"
      },
      "source": [
        "Previously we review from CS 22A different data structure including\n",
        "*   lists\n",
        "*   tuples\n",
        "*   dictionary\n",
        "*   Series\n",
        "*   DataFrames\n",
        "\n",
        "Today, we are going to be looking at complex data structures.\n",
        "\n",
        "[Data structure tutorial resource](https://docs.python.org/3/tutorial/datastructures.html)"
      ]
    },
    {
      "cell_type": "markdown",
      "metadata": {
        "id": "q2qq1-cV4JVY"
      },
      "source": [
        "## Lists\n",
        "List are used to store a sequence of data. They are ordered, changeable, and allow duplicates.\n",
        "*   sequence of values (items)\n",
        "*   order is preserved\n",
        "*   **mutable**\n"
      ]
    },
    {
      "cell_type": "code",
      "execution_count": null,
      "metadata": {
        "id": "YMClfkPX4ZLY"
      },
      "outputs": [],
      "source": [
        "### How to assign a list. Notice the different datatype\n",
        "list_a = ['Rashi', \"Raghulan\", 1998, 2020]"
      ]
    },
    {
      "cell_type": "markdown",
      "metadata": {
        "id": "s26Fntp0a9qQ"
      },
      "source": [
        "Part 1: **Order** of a List -- Selecting a variable or s sublist from a list"
      ]
    },
    {
      "cell_type": "code",
      "execution_count": null,
      "metadata": {
        "id": "36r-DPYL9oXL"
      },
      "outputs": [],
      "source": [
        "list_b = [8, 10, 4, 3, 6, 7]"
      ]
    },
    {
      "cell_type": "code",
      "execution_count": null,
      "metadata": {
        "id": "iJffz0t8-M12"
      },
      "outputs": [],
      "source": [
        "var1 = list_b[1] # -> position 2, index 1"
      ]
    },
    {
      "cell_type": "code",
      "execution_count": null,
      "metadata": {
        "id": "lp_DpCe_a7wt"
      },
      "outputs": [],
      "source": [
        "var2 = list_b[-1] # -> last element"
      ]
    },
    {
      "cell_type": "code",
      "execution_count": null,
      "metadata": {
        "id": "RGwVF3gibo43",
        "colab": {
          "base_uri": "https://localhost:8080/"
        },
        "outputId": "8090fdc4-57ca-4cbc-f7d7-c1c115d66786"
      },
      "outputs": [
        {
          "output_type": "execute_result",
          "data": {
            "text/plain": [
              "[2, 3, 4]"
            ]
          },
          "metadata": {},
          "execution_count": 5
        }
      ],
      "source": [
        "### Includes the element in index 2 but not the element in index 5\n",
        "list_c = [0, 1, 2, 3, 4, 5, 6]\n",
        "list_c[2:5] # -> [START: STOP(excluc): step]"
      ]
    },
    {
      "cell_type": "markdown",
      "metadata": {
        "id": "lmYG-INGbrNY"
      },
      "source": [
        "Part 2: List is **mutable**"
      ]
    },
    {
      "cell_type": "code",
      "execution_count": null,
      "metadata": {
        "id": "KnF4GsXCczRO"
      },
      "outputs": [],
      "source": [
        "# print(list_b)\n",
        "list_b[1] = 9 # modify position 2"
      ]
    },
    {
      "cell_type": "code",
      "execution_count": null,
      "metadata": {
        "id": "P28QFasp9x1d"
      },
      "outputs": [],
      "source": [
        "### sorting the elements in a list\n",
        "list_b.sort()"
      ]
    },
    {
      "cell_type": "code",
      "source": [
        "list_e = list_b.sort()\n",
        "print(list_e)"
      ],
      "metadata": {
        "colab": {
          "base_uri": "https://localhost:8080/"
        },
        "id": "mmOwVotmyH-s",
        "outputId": "8981f1e9-0deb-4451-f4e1-552504a4cfdc"
      },
      "execution_count": null,
      "outputs": [
        {
          "output_type": "stream",
          "name": "stdout",
          "text": [
            "None\n"
          ]
        }
      ]
    },
    {
      "cell_type": "code",
      "execution_count": 6,
      "metadata": {
        "id": "OEkog2Or-5u6"
      },
      "outputs": [],
      "source": [
        "### Adding an item\n",
        "list_c = [8, 10, 4, 3, 6, 7]\n",
        "list_c.append(18)"
      ]
    },
    {
      "cell_type": "code",
      "execution_count": 7,
      "metadata": {
        "colab": {
          "base_uri": "https://localhost:8080/"
        },
        "id": "AQH30ii0zN8p",
        "outputId": "2c829d68-0b88-4897-ce79-bce94b3f224d"
      },
      "outputs": [
        {
          "output_type": "stream",
          "name": "stdout",
          "text": [
            "[8, 10, 3, 6, 7, 18]\n"
          ]
        }
      ],
      "source": [
        "### Removing an item using an index\n",
        "list_c.pop(2) # takes index\n",
        "print(list_c)"
      ]
    },
    {
      "cell_type": "code",
      "execution_count": null,
      "metadata": {
        "id": "ICqVzG9qhnu0",
        "colab": {
          "base_uri": "https://localhost:8080/"
        },
        "outputId": "c1d7ee84-d834-4922-abcc-94644a0902e2"
      },
      "outputs": [
        {
          "output_type": "execute_result",
          "data": {
            "text/plain": [
              "3"
            ]
          },
          "metadata": {},
          "execution_count": 15
        }
      ],
      "source": [
        "### Removing an item from the end\n",
        "list_c.pop()"
      ]
    },
    {
      "cell_type": "code",
      "source": [
        "### Remove method\n",
        "list_c.remove(10)"
      ],
      "metadata": {
        "id": "hcqiG_OSPsQN"
      },
      "execution_count": null,
      "outputs": []
    },
    {
      "cell_type": "code",
      "execution_count": null,
      "metadata": {
        "id": "ABn5Nmft_poL"
      },
      "outputs": [],
      "source": [
        "### Combining two lists together\n",
        "list_d = [10, 11, 12]\n",
        "list_c.extend(list_d)"
      ]
    },
    {
      "cell_type": "markdown",
      "metadata": {
        "id": "EZUpqodVfdv4"
      },
      "source": [
        "Please **know the difference** between **append** and **extend**"
      ]
    },
    {
      "cell_type": "code",
      "execution_count": null,
      "metadata": {
        "id": "rRqzdYaU_PlZ"
      },
      "outputs": [],
      "source": [
        "### Sorting the elements in a list\n",
        "list_e = sorted(list_c)\n",
        "\n",
        "# print (\"List C: \" + str(list_c))\n",
        "# print (\"List E: \" + str(list_e))"
      ]
    },
    {
      "cell_type": "code",
      "execution_count": null,
      "metadata": {
        "id": "0XMiV4zwY5lj"
      },
      "outputs": [],
      "source": [
        "### Use the + operator to add two lists together\n",
        "list_f = [1, 2, 3]\n",
        "list_g = [4, 5, 6]\n",
        "list_h = list_f + list_g\n",
        "\n",
        "# print(list_f, list_g, list_h)\n",
        "\n",
        "# list_h = list_f.append(list_g)"
      ]
    },
    {
      "cell_type": "markdown",
      "source": [
        "#### **Question 1**\n",
        "What is the output for the following code?\n",
        "\n",
        "list_f = [1, 2, 3]\n",
        "list_g = [4, 5, 6]\n",
        "list_h = list_f.append(list_g)\n",
        "print(list_h)"
      ],
      "metadata": {
        "id": "04AN3cGVE4Nr"
      }
    },
    {
      "cell_type": "code",
      "source": [
        "### Use the lists and append list_g to list_f and assign it to variable list_h.\n",
        "## What does list_h contain? Why?\n",
        "## What about list_f? Why?\n",
        "list_f = [1, 2, 3]\n",
        "list_g = [4, 5, 6]\n",
        "list_h = list_f.append(list_g)\n",
        "print(list_h)\n",
        "\n",
        "#The append() method in Python does not return the modified list. It returns None. Therefore, this code will prin\n",
        "\n"
      ],
      "metadata": {
        "id": "KdUqTuaxzrih",
        "outputId": "2af4cae1-ade1-4a2c-a0a2-c4368682f918",
        "colab": {
          "base_uri": "https://localhost:8080/"
        }
      },
      "execution_count": 12,
      "outputs": [
        {
          "output_type": "stream",
          "name": "stdout",
          "text": [
            "[4, 5, 6]\n"
          ]
        }
      ]
    },
    {
      "cell_type": "markdown",
      "source": [
        "#### **Question 2:**\n",
        "What is the output for the following code?\n",
        "\n",
        "list_j = [1, 1, 1, 2, 3, 3]\n",
        "\n",
        "print(list_j.index(2))  \n",
        "print(list_j.index(0))"
      ],
      "metadata": {
        "id": "xSLvJrhiFKkQ"
      }
    },
    {
      "cell_type": "code",
      "source": [
        "list_j = [1, 1, 1, 2, 3, 3]\n",
        "print(list_j.index(2))\n",
        "print(list_j.index(0))\n",
        "### Your code"
      ],
      "metadata": {
        "id": "YMXdelyAO8Y_",
        "outputId": "3aa1ba01-0188-4c68-e8cb-39cf80fb0a0e",
        "colab": {
          "base_uri": "https://localhost:8080/",
          "height": 211
        }
      },
      "execution_count": 13,
      "outputs": [
        {
          "output_type": "stream",
          "name": "stdout",
          "text": [
            "3\n"
          ]
        },
        {
          "output_type": "error",
          "ename": "ValueError",
          "evalue": "0 is not in list",
          "traceback": [
            "\u001b[0;31m---------------------------------------------------------------------------\u001b[0m",
            "\u001b[0;31mValueError\u001b[0m                                Traceback (most recent call last)",
            "\u001b[0;32m<ipython-input-13-49ea531b97b3>\u001b[0m in \u001b[0;36m<cell line: 0>\u001b[0;34m()\u001b[0m\n\u001b[1;32m      1\u001b[0m \u001b[0mlist_j\u001b[0m \u001b[0;34m=\u001b[0m \u001b[0;34m[\u001b[0m\u001b[0;36m1\u001b[0m\u001b[0;34m,\u001b[0m \u001b[0;36m1\u001b[0m\u001b[0;34m,\u001b[0m \u001b[0;36m1\u001b[0m\u001b[0;34m,\u001b[0m \u001b[0;36m2\u001b[0m\u001b[0;34m,\u001b[0m \u001b[0;36m3\u001b[0m\u001b[0;34m,\u001b[0m \u001b[0;36m3\u001b[0m\u001b[0;34m]\u001b[0m\u001b[0;34m\u001b[0m\u001b[0;34m\u001b[0m\u001b[0m\n\u001b[1;32m      2\u001b[0m \u001b[0mprint\u001b[0m\u001b[0;34m(\u001b[0m\u001b[0mlist_j\u001b[0m\u001b[0;34m.\u001b[0m\u001b[0mindex\u001b[0m\u001b[0;34m(\u001b[0m\u001b[0;36m2\u001b[0m\u001b[0;34m)\u001b[0m\u001b[0;34m)\u001b[0m\u001b[0;34m\u001b[0m\u001b[0;34m\u001b[0m\u001b[0m\n\u001b[0;32m----> 3\u001b[0;31m \u001b[0mprint\u001b[0m\u001b[0;34m(\u001b[0m\u001b[0mlist_j\u001b[0m\u001b[0;34m.\u001b[0m\u001b[0mindex\u001b[0m\u001b[0;34m(\u001b[0m\u001b[0;36m0\u001b[0m\u001b[0;34m)\u001b[0m\u001b[0;34m)\u001b[0m\u001b[0;34m\u001b[0m\u001b[0;34m\u001b[0m\u001b[0m\n\u001b[0m\u001b[1;32m      4\u001b[0m \u001b[0;31m### Your code\u001b[0m\u001b[0;34m\u001b[0m\u001b[0;34m\u001b[0m\u001b[0m\n",
            "\u001b[0;31mValueError\u001b[0m: 0 is not in list"
          ]
        }
      ]
    },
    {
      "cell_type": "markdown",
      "metadata": {
        "id": "rw-8m-lK4N8l"
      },
      "source": [
        "## Tuples\n",
        "Tuple are used to store multiple items in a single variable. They are ordered, unchangeable, and allow duplicates.\n",
        "* similar to lists\n",
        "* but they are **immutable**\n",
        "    * cannot be changed\n",
        "* use round parentheses ()\n",
        "* can be used as Keys in a dictionary"
      ]
    },
    {
      "cell_type": "code",
      "execution_count": null,
      "metadata": {
        "id": "j6hhlph32d5k"
      },
      "outputs": [],
      "source": [
        "### Tuple can be different datatypes\n",
        "tuple_a = (2,3,4)\n",
        "tuple_b = (12, \"tree\", 1)"
      ]
    },
    {
      "cell_type": "code",
      "execution_count": null,
      "metadata": {
        "id": "-OzSBsNr8uCV",
        "colab": {
          "base_uri": "https://localhost:8080/"
        },
        "outputId": "3c1f8056-8998-49e6-87ac-1aac40b00820"
      },
      "outputs": [
        {
          "output_type": "execute_result",
          "data": {
            "text/plain": [
              "1"
            ]
          },
          "metadata": {},
          "execution_count": 24
        }
      ],
      "source": [
        "tuple_b[2]"
      ]
    },
    {
      "cell_type": "code",
      "execution_count": null,
      "metadata": {
        "id": "JbL-KkDp80YT"
      },
      "outputs": [],
      "source": [
        "### immutable\n",
        "# tuple_b[2] = \"try\""
      ]
    },
    {
      "cell_type": "markdown",
      "source": [
        "#### **Question 3:**\n",
        "What is the difference between these two lines? What type of data type\n",
        "\n",
        "thistupleA = (\"apple\",)  \n",
        "thistupleB = (\"apple\")"
      ],
      "metadata": {
        "id": "YVWUwuCeGNMI"
      }
    },
    {
      "cell_type": "code",
      "source": [
        "### Print out type for thistupleA and thistupleB. Explain\n",
        "# print(type(thistupleA)) - Tuple comma is mandatory for single element tuple\n",
        "# print(type(thistupleB)) - its a string"
      ],
      "metadata": {
        "id": "hEPyWr7gQo5J"
      },
      "execution_count": null,
      "outputs": []
    },
    {
      "cell_type": "markdown",
      "metadata": {
        "id": "zAA2IlJD4Q0X"
      },
      "source": [
        "## Sets\n",
        "Set are unordered, unchangeable, and does not allow duplicates. Set can contain different data types.\n",
        "* **mutable**\n",
        "* order is **NOT** preserved\n",
        "* good for storing unique values\n",
        "* created with curly paratheses"
      ]
    },
    {
      "cell_type": "code",
      "execution_count": null,
      "metadata": {
        "id": "AGXTW31w-uIS"
      },
      "outputs": [],
      "source": [
        "set_a = {\"a\", \"b\", \"c\", \"d\", \"e\", 8, 9 , 6}"
      ]
    },
    {
      "cell_type": "code",
      "execution_count": null,
      "metadata": {
        "id": "i5peI_cI-4pa"
      },
      "outputs": [],
      "source": [
        "### Note: No redundancy\n",
        "set_b = {1, 2, 3, 4, 5, 5}"
      ]
    },
    {
      "cell_type": "markdown",
      "source": [
        "#### **Question 4:**\n",
        "Explain the output and why for the set below\n",
        "\n",
        "thisset = {\"apple\", \"banana\", \"cherry\", True, 1, 2}  \n",
        "print(thisset)\n",
        "\n",
        "** Hint True == 1, False == 0"
      ],
      "metadata": {
        "id": "oNFjA0y6zjDU"
      }
    },
    {
      "cell_type": "code",
      "source": [
        "### Print the set below and explain why you get the output\n",
        "thisset = {\"apple\", \"banana\", \"cherry\", True, 1, 2}\n",
        "print(thisset)\n",
        "# set will not have duplicates since True and 1 are the same, 1 is dropped from the set"
      ],
      "metadata": {
        "id": "7vdXhJAocX5Y",
        "outputId": "8f40c224-1e84-466b-af68-f510349b8d4f",
        "colab": {
          "base_uri": "https://localhost:8080/"
        }
      },
      "execution_count": 14,
      "outputs": [
        {
          "output_type": "stream",
          "name": "stdout",
          "text": [
            "{True, 2, 'cherry', 'apple', 'banana'}\n"
          ]
        }
      ]
    },
    {
      "cell_type": "code",
      "source": [
        "### What if you switch the order of the elements in the set? Does it give the same output as above\n",
        "thisset = {\"apple\", \"banana\", \"cherry\", 1, True, 2}\n",
        "print(thisset)\n",
        "#No,since this time 1 is in first place True is dropped"
      ],
      "metadata": {
        "colab": {
          "base_uri": "https://localhost:8080/"
        },
        "id": "PRIm579EKnG2",
        "outputId": "614b36a4-08b3-4f6d-bc0b-34824209b66b"
      },
      "execution_count": 15,
      "outputs": [
        {
          "output_type": "stream",
          "name": "stdout",
          "text": [
            "{1, 2, 'cherry', 'apple', 'banana'}\n"
          ]
        }
      ]
    },
    {
      "cell_type": "markdown",
      "source": [
        "Access set elements:"
      ],
      "metadata": {
        "id": "lvKf0rbR6tdj"
      }
    },
    {
      "cell_type": "code",
      "source": [
        "for a in set_a:\n",
        "  print(a)"
      ],
      "metadata": {
        "colab": {
          "base_uri": "https://localhost:8080/",
          "height": 159
        },
        "id": "_Ln1SiC-6wuj",
        "outputId": "162a0f9d-7645-46fe-80d1-b390a9173a86"
      },
      "execution_count": 16,
      "outputs": [
        {
          "output_type": "error",
          "ename": "NameError",
          "evalue": "name 'set_a' is not defined",
          "traceback": [
            "\u001b[0;31m---------------------------------------------------------------------------\u001b[0m",
            "\u001b[0;31mNameError\u001b[0m                                 Traceback (most recent call last)",
            "\u001b[0;32m<ipython-input-16-b4a8065ca08d>\u001b[0m in \u001b[0;36m<cell line: 0>\u001b[0;34m()\u001b[0m\n\u001b[0;32m----> 1\u001b[0;31m \u001b[0;32mfor\u001b[0m \u001b[0ma\u001b[0m \u001b[0;32min\u001b[0m \u001b[0mset_a\u001b[0m\u001b[0;34m:\u001b[0m\u001b[0;34m\u001b[0m\u001b[0;34m\u001b[0m\u001b[0m\n\u001b[0m\u001b[1;32m      2\u001b[0m   \u001b[0mprint\u001b[0m\u001b[0;34m(\u001b[0m\u001b[0ma\u001b[0m\u001b[0;34m)\u001b[0m\u001b[0;34m\u001b[0m\u001b[0;34m\u001b[0m\u001b[0m\n",
            "\u001b[0;31mNameError\u001b[0m: name 'set_a' is not defined"
          ]
        }
      ]
    },
    {
      "cell_type": "markdown",
      "source": [
        "Adding to set:"
      ],
      "metadata": {
        "id": "Q-SfKbuh7Zny"
      }
    },
    {
      "cell_type": "code",
      "source": [
        "set_a.add(\"f\")"
      ],
      "metadata": {
        "id": "NCLKWyMN7Vm3"
      },
      "execution_count": null,
      "outputs": []
    },
    {
      "cell_type": "code",
      "source": [
        "### Can we add another \"f\"?\n",
        "set_a.add(\"f\")"
      ],
      "metadata": {
        "id": "VP4-Jm8c8_ix",
        "colab": {
          "base_uri": "https://localhost:8080/"
        },
        "outputId": "61bb9a50-0985-433c-c577-aa47d20b71b0"
      },
      "execution_count": null,
      "outputs": [
        {
          "output_type": "execute_result",
          "data": {
            "text/plain": [
              "{6, 8, 9, 'a', 'b', 'c', 'd', 'e', 'f'}"
            ]
          },
          "metadata": {},
          "execution_count": 119
        }
      ]
    },
    {
      "cell_type": "markdown",
      "source": [
        "Adding elements from a set to a set"
      ],
      "metadata": {
        "id": "qV5UxoH97fFa"
      }
    },
    {
      "cell_type": "code",
      "source": [
        "### Where does 2 get added?\n",
        "set_a.update({\"h\", 2})"
      ],
      "metadata": {
        "id": "gvFDBh6n7eV4"
      },
      "execution_count": null,
      "outputs": []
    },
    {
      "cell_type": "markdown",
      "source": [
        "Deleting from a set:\n",
        "discard\n",
        "remove\n",
        "pop"
      ],
      "metadata": {
        "id": "PeLbfXZs8Dwo"
      }
    },
    {
      "cell_type": "code",
      "source": [
        "thisset\n",
        "thisset.remove(\"banana\")\n",
        "thisset.discard(\"apple\")\n",
        "thisset.pop()"
      ],
      "metadata": {
        "colab": {
          "base_uri": "https://localhost:8080/"
        },
        "id": "d5ztnIe28DB_",
        "outputId": "c06071cc-dda6-4fc7-da3f-ca1bdf27f695"
      },
      "execution_count": null,
      "outputs": [
        {
          "output_type": "execute_result",
          "data": {
            "text/plain": [
              "2"
            ]
          },
          "metadata": {},
          "execution_count": 121
        }
      ]
    },
    {
      "cell_type": "markdown",
      "source": [
        "Empty the set + delete the set"
      ],
      "metadata": {
        "id": "lxr6AG-q8Wbe"
      }
    },
    {
      "cell_type": "code",
      "source": [
        "this_set = {\"apple\", \"banana\", \"cherry\"}\n",
        "this_set.clear()\n",
        "# print(this_set)"
      ],
      "metadata": {
        "id": "TWYPhqp48VKi"
      },
      "execution_count": null,
      "outputs": []
    },
    {
      "cell_type": "code",
      "source": [
        "del this_set\n",
        "# print(this_set)"
      ],
      "metadata": {
        "id": "BebNzk8A8edV"
      },
      "execution_count": null,
      "outputs": []
    },
    {
      "cell_type": "markdown",
      "source": [
        "### Sets - Mathematical operations"
      ],
      "metadata": {
        "id": "djjj5dJMTVzq"
      }
    },
    {
      "cell_type": "markdown",
      "metadata": {
        "id": "1cBAG2iP-iXj"
      },
      "source": [
        "1. Union (|)\n",
        "\n",
        "![image.png](data:image/png;base64,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)\n",
        "\n",
        "Source: https://www.geeksforgeeks.org/union-function-python/"
      ]
    },
    {
      "cell_type": "code",
      "execution_count": null,
      "metadata": {
        "id": "1JwM6XEE4Vf4"
      },
      "outputs": [],
      "source": [
        "set_ab = set_a | set_b"
      ]
    },
    {
      "cell_type": "code",
      "execution_count": null,
      "metadata": {
        "id": "Q2cS3s4z_TgW"
      },
      "outputs": [],
      "source": [
        "set_ba = set_b | set_a\n",
        "# set_ba # there is no order"
      ]
    },
    {
      "cell_type": "markdown",
      "metadata": {
        "id": "HhrHcRTw_wDT"
      },
      "source": [
        "\n",
        "2. Intersection (&)\n",
        "\n",
        "![image.png](data:image/png;base64,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)\n",
        "\n",
        "Source: https://www.codespeedy.com/find-union-and-intersection-of-two-linked-lists-in-python/"
      ]
    },
    {
      "cell_type": "code",
      "execution_count": null,
      "metadata": {
        "id": "tpO2HLGiAOzx"
      },
      "outputs": [],
      "source": [
        "ab_a_intersection = set_ab & set_a\n",
        "# ab_a_intersection"
      ]
    },
    {
      "cell_type": "code",
      "execution_count": null,
      "metadata": {
        "id": "igXa5bcBV8ZV"
      },
      "outputs": [],
      "source": [
        "ab_b_intersection = set_ab & set_b\n",
        "# ab_b_intersection"
      ]
    },
    {
      "cell_type": "markdown",
      "metadata": {
        "id": "mv82w8mwWQUS"
      },
      "source": [
        "3. Difference (-)\n",
        "\n",
        "![image.png](data:image/png;base64,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)\n",
        "\n",
        "Source: https://codedestine.com/wp-content/uploads/2017/12/PythonSetOpDifference.png\n"
      ]
    },
    {
      "cell_type": "code",
      "execution_count": null,
      "metadata": {
        "id": "wI7f9IxxWF0u"
      },
      "outputs": [],
      "source": [
        "# Difference: in set_ab but not in set_a\n",
        "ab_not_in_a = set_ab - set_a\n",
        "# ab_not_in_a"
      ]
    },
    {
      "cell_type": "code",
      "execution_count": null,
      "metadata": {
        "id": "8fEU5nUaW4X4"
      },
      "outputs": [],
      "source": [
        "# Difference: in set_ab but not in set_b\n",
        "ab_not_in_b = set_ab - set_b\n",
        "# ab_not_in_b"
      ]
    },
    {
      "cell_type": "markdown",
      "metadata": {
        "id": "q5IBpEsVXCyR"
      },
      "source": [
        "4. Symmetric Difference (^)\n",
        "\n",
        "![image.png](data:image/png;base64,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)\n",
        "\n",
        "Source: https://www.cdn.geeksforgeeks.org/wp-content/uploads/symmetric-difference.jpg"
      ]
    },
    {
      "cell_type": "code",
      "execution_count": null,
      "metadata": {
        "id": "05VaiYiBW8yk"
      },
      "outputs": [],
      "source": [
        "set_c = {1, 2, 3, \"a\", \"b\", \"c\"}\n",
        "# print(set_c)\n",
        "# print(set_ab)"
      ]
    },
    {
      "cell_type": "code",
      "execution_count": null,
      "metadata": {
        "id": "S1KCjQH6X23R",
        "colab": {
          "base_uri": "https://localhost:8080/"
        },
        "outputId": "94ad8d0d-4919-4623-827d-e9754bb38180"
      },
      "outputs": [
        {
          "output_type": "execute_result",
          "data": {
            "text/plain": [
              "{4, 5, 6, 8, 9, 'd', 'e', 'f', 'h'}"
            ]
          },
          "metadata": {},
          "execution_count": 46
        }
      ],
      "source": [
        "set_c^set_ab"
      ]
    },
    {
      "cell_type": "code",
      "execution_count": null,
      "metadata": {
        "id": "t_bOkTngXnu4",
        "colab": {
          "base_uri": "https://localhost:8080/"
        },
        "outputId": "0e0d8eed-f5be-4ffa-f955-b10d80720046"
      },
      "outputs": [
        {
          "output_type": "execute_result",
          "data": {
            "text/plain": [
              "{4, 5, 6, 8, 9, 'd', 'e', 'f', 'h'}"
            ]
          },
          "metadata": {},
          "execution_count": 132
        }
      ],
      "source": [
        "set_ab^set_c"
      ]
    },
    {
      "cell_type": "markdown",
      "metadata": {
        "id": "BKt37nXnYNSx"
      },
      "source": [
        "### Dictionaries\n",
        "Dictionary stores data in key:value pair where each key maps to a specific value. They are ordered, changeable, and keys must be unique.\n",
        "* key:value pair\n",
        "* each pair is an item in the dictionary\n",
        "* use curly brackets to creates dictionaries\n",
        "* items are separated with a comma\n",
        "* need to have **unique** keys"
      ]
    },
    {
      "cell_type": "code",
      "execution_count": null,
      "metadata": {
        "id": "roKPCCVpYPds"
      },
      "outputs": [],
      "source": [
        "scores = {'John': 95, 'Mary': 98, 'Tyler': 82}\n",
        "# scores"
      ]
    },
    {
      "cell_type": "code",
      "execution_count": null,
      "metadata": {
        "id": "7a012MEXYyLQ"
      },
      "outputs": [],
      "source": [
        "# scores['Mary']"
      ]
    },
    {
      "cell_type": "code",
      "execution_count": null,
      "metadata": {
        "id": "eEhQu2vXY2AO"
      },
      "outputs": [],
      "source": [
        "# scores['Joe'] #check keys"
      ]
    },
    {
      "cell_type": "code",
      "source": [
        "# print(scores.get('Mary', 'invalid'))"
      ],
      "metadata": {
        "id": "75bDaVGee59V"
      },
      "execution_count": null,
      "outputs": []
    },
    {
      "cell_type": "code",
      "execution_count": null,
      "metadata": {
        "id": "GNXW1VZjY6Ff"
      },
      "outputs": [],
      "source": [
        "# print(scores.get('Joe', 'invalid'))\n",
        "# type(scores.keys())"
      ]
    },
    {
      "cell_type": "code",
      "execution_count": null,
      "metadata": {
        "id": "uLvjNm-FZK5b"
      },
      "outputs": [],
      "source": [
        "### Adding to dictionary\n",
        "# scores['Jasmine'] = 92\n",
        "# scores"
      ]
    },
    {
      "cell_type": "code",
      "source": [
        "# scores[1] = 93\n",
        "# scores"
      ],
      "metadata": {
        "id": "1NzZzWPFigKD"
      },
      "execution_count": null,
      "outputs": []
    },
    {
      "cell_type": "code",
      "execution_count": null,
      "metadata": {
        "id": "jyVyAGg0ZTBV"
      },
      "outputs": [],
      "source": [
        "### To iterate use for loops:\n",
        "# scores[1]\n",
        "# scores[2] #you will not get the item (key:value) in index 1"
      ]
    },
    {
      "cell_type": "code",
      "execution_count": null,
      "metadata": {
        "id": "Kl4mN0wUZY88",
        "colab": {
          "base_uri": "https://localhost:8080/"
        },
        "outputId": "248243d7-35f8-466a-977e-dd258647fbcd"
      },
      "outputs": [
        {
          "output_type": "stream",
          "name": "stdout",
          "text": [
            "John: 95\n",
            "Mary: 98\n",
            "Tyler: 82\n",
            "Jasmine: 92\n",
            "1: 93\n"
          ]
        }
      ],
      "source": [
        "for student in scores.keys():\n",
        "  print(str(student) + \": \" +  str(scores[student]))"
      ]
    },
    {
      "cell_type": "markdown",
      "metadata": {
        "id": "K6aruQsJaVoB"
      },
      "source": [
        "# Constructing complex data structures #\n",
        "- List of lists\n",
        "- List of dicts\n",
        "- List of tuples\n",
        "- Dict of sets\n",
        "- Dict of tuples\n",
        "- Dict of list"
      ]
    },
    {
      "cell_type": "markdown",
      "metadata": {
        "id": "HuwZj-afadQq"
      },
      "source": [
        "##List of lists##\n",
        "\n",
        "- List of lists is designed to store data that are typically stored in tables with rows and columns.\n",
        "- It is also known as 2D-Lists."
      ]
    },
    {
      "cell_type": "code",
      "execution_count": null,
      "metadata": {
        "id": "UpZk_gByabRa",
        "colab": {
          "base_uri": "https://localhost:8080/"
        },
        "outputId": "52c20143-1860-4aa5-f9b0-f36b895eb44f"
      },
      "outputs": [
        {
          "output_type": "execute_result",
          "data": {
            "text/plain": [
              "[['A', 'T', '-', 'T', 'G'],\n",
              " ['A', 'A', 'T', 'A', 'G'],\n",
              " ['T', '-', 'T', 'T', 'G'],\n",
              " ['A', 'A', '-', 'T', 'A']]"
            ]
          },
          "metadata": {},
          "execution_count": 29
        }
      ],
      "source": [
        "#an alignment of 5 base pairs\n",
        "alignment = [['A', 'T', '-', 'T', 'G'],\n",
        "             ['A', 'A', 'T', 'A', 'G'],\n",
        "             ['T', '-', 'T', 'T', 'G'],\n",
        "             ['A', 'A', '-', 'T', 'A']\n",
        "      ]\n",
        "alignment"
      ]
    },
    {
      "cell_type": "code",
      "execution_count": null,
      "metadata": {
        "id": "jXtDdYxiaoEr",
        "colab": {
          "base_uri": "https://localhost:8080/"
        },
        "outputId": "25cc2a7d-676c-4a12-e42c-520364a2a0a0"
      },
      "outputs": [
        {
          "output_type": "execute_result",
          "data": {
            "text/plain": [
              "[['t', 'o', 'm', 'a', '-', 't', '-', 'o'],\n",
              " ['t', 'o', 'm', 'a', '-', 't', '-', 'e'],\n",
              " ['t', 'o', 'm', 'a', '-', 't', '-', 'e'],\n",
              " ['t', 'o', 'm', 'a', 'a', 't', 't', 'i']]"
            ]
          },
          "metadata": {},
          "execution_count": 46
        }
      ],
      "source": [
        "#alignment of a similar word in different languages\n",
        "alignment_2 = [['t', 'o', 'm', 'a', '-', 't', '-', 'o'], #English\n",
        "               ['t', 'o', 'm', 'a', '-', 't', '-', 'e'], #Spanish\n",
        "               ['t', 'o', 'm', 'a', '-', 't', '-', 'e'], #French\n",
        "               ['t', 'o', 'm', 'a', 'a', 't', 't', 'i'], #Finnish\n",
        "]\n",
        "alignment_2"
      ]
    },
    {
      "cell_type": "markdown",
      "metadata": {
        "id": "8GmxbV9Gc9Ja"
      },
      "source": [
        "## List of tuples ##\n",
        "- Tuples are *immutable*.\n",
        "- List of tuples is a good data structure for storing records where the order of the records is preserved.\n",
        "- To retrieve a piece of datum from a record, we must know the position of the datum in the record."
      ]
    },
    {
      "cell_type": "code",
      "execution_count": null,
      "metadata": {
        "id": "vw43J3jgctPP",
        "colab": {
          "base_uri": "https://localhost:8080/"
        },
        "outputId": "57182d93-1509-43e3-a431-7fb1cf24bd38"
      },
      "outputs": [
        {
          "output_type": "execute_result",
          "data": {
            "text/plain": [
              "[(55221, 'NC_045512.2', 100.0),\n",
              " (55221, 'MZ722702.1', 100.0),\n",
              " (55221, 'MZ722630.1', 100.0),\n",
              " (55221, 'MZ722615.1', 100.0),\n",
              " (55221, 'MZ722192.1', 100.0)]"
            ]
          },
          "metadata": {},
          "execution_count": 48
        }
      ],
      "source": [
        "#records is a record for a blastn search (a DB which looks for the sequences with the most amount of similarity among the DNA)\n",
        "#which stores the accession numbers (a unique number given for each piece data in the DB)\n",
        "#for the first 5 max scores along with percent identity\n",
        "\n",
        "#records = [(max score, accession #, percent idenity)]\n",
        "NC_045512_records = [\n",
        "    (55221, 'NC_045512.2', 100.0),\n",
        "    (55221, 'MZ722702.1', 100.0),\n",
        "    (55221, 'MZ722630.1', 100.0),\n",
        "    (55221, 'MZ722615.1', 100.0),\n",
        "    (55221, 'MZ722192.1', 100.0),\n",
        "]\n",
        "\n",
        "NC_045512_records"
      ]
    },
    {
      "cell_type": "code",
      "execution_count": null,
      "metadata": {
        "id": "oE3M1eMIiaIx",
        "colab": {
          "base_uri": "https://localhost:8080/"
        },
        "outputId": "eaf75f9f-a6f9-4d4b-daee-5da6994da38d"
      },
      "outputs": [
        {
          "output_type": "execute_result",
          "data": {
            "text/plain": [
              "[('Bad Boys For Life', 'Action', 204417855),\n",
              " ('1917', 'Thriller/Suspense', 157901466),\n",
              " ('Sonic the Hedgehob', 'Adventure', 146066470),\n",
              " ('Jumanji: The Next Level', 'Adventure', 124736710)]"
            ]
          },
          "metadata": {},
          "execution_count": 49
        }
      ],
      "source": [
        "#movies of 2020 ordered according to their ranking\n",
        "\n",
        "#movie, genre, 2020 gross according to the-numbers.com\n",
        "movies_2020 =[\n",
        "              ('Bad Boys For Life', 'Action', 204417855),\n",
        "              ('1917', 'Thriller/Suspense', 157901466),\n",
        "              ('Sonic the Hedgehob', 'Adventure', 146066470),\n",
        "              ('Jumanji: The Next Level', 'Adventure', 124736710)\n",
        "]\n",
        "movies_2020"
      ]
    },
    {
      "cell_type": "code",
      "execution_count": null,
      "metadata": {
        "id": "PS4ITKRcmyPB",
        "colab": {
          "base_uri": "https://localhost:8080/",
          "height": 35
        },
        "outputId": "c38c4d93-b99c-4865-f160-7a1844ff9353"
      },
      "outputs": [
        {
          "output_type": "execute_result",
          "data": {
            "text/plain": [
              "'Thriller/Suspense'"
            ],
            "application/vnd.google.colaboratory.intrinsic+json": {
              "type": "string"
            }
          },
          "metadata": {},
          "execution_count": 50
        }
      ],
      "source": [
        "#to get the genre for the 2 ranking movie\n",
        "movies_2020[2-1][1]"
      ]
    },
    {
      "cell_type": "markdown",
      "metadata": {
        "id": "LkWgxf8AnKGC"
      },
      "source": [
        "## List of dictionaries ##\n",
        "- List of dictionaries is useful when we want to retrieve the data from a list of records without knowing the position of the data in the record since we can retrieve the data by using the key values."
      ]
    },
    {
      "cell_type": "code",
      "execution_count": null,
      "metadata": {
        "id": "boDVTiaEm989",
        "colab": {
          "base_uri": "https://localhost:8080/"
        },
        "outputId": "0fd37cd3-8267-47e6-829f-bd403f5c9a2a"
      },
      "outputs": [
        {
          "output_type": "execute_result",
          "data": {
            "text/plain": [
              "[{'movie': 'Bad Boys For Life', 'genre': 'Action', 'gross_value': 204417855},\n",
              " {'movie': '1917', 'genre': 'Thriller/Suspense', 'gross_value': 157901466},\n",
              " {'movie': 'Sonic the Hedgehob',\n",
              "  'genre': 'Adventure',\n",
              "  'gross_value': 146066470},\n",
              " {'movie': 'Jumanji: The Next Level',\n",
              "  'genre': 'Adventure',\n",
              "  'gross_value': 124736710}]"
            ]
          },
          "metadata": {},
          "execution_count": 53
        }
      ],
      "source": [
        "#movie, genre, 2020 gross according to the-numbers.com\n",
        "movies_2020_2 =[\n",
        "              {'movie': 'Bad Boys For Life', 'genre': 'Action', 'gross_value': 204417855},\n",
        "              {'movie': '1917', 'genre': 'Thriller/Suspense', 'gross_value': 157901466},\n",
        "              {'movie': 'Sonic the Hedgehob', 'genre': 'Adventure', 'gross_value': 146066470},\n",
        "              {'movie': 'Jumanji: The Next Level', 'genre': 'Adventure', 'gross_value': 124736710}\n",
        "]\n",
        "movies_2020_2"
      ]
    },
    {
      "cell_type": "code",
      "execution_count": null,
      "metadata": {
        "id": "i2RHB9JTn1Qf",
        "colab": {
          "base_uri": "https://localhost:8080/",
          "height": 35
        },
        "outputId": "92785b42-fd12-4798-8f85-83bccd863ca4"
      },
      "outputs": [
        {
          "output_type": "execute_result",
          "data": {
            "text/plain": [
              "'Thriller/Suspense'"
            ],
            "application/vnd.google.colaboratory.intrinsic+json": {
              "type": "string"
            }
          },
          "metadata": {},
          "execution_count": 54
        }
      ],
      "source": [
        "#to get the genre for the 2 ranking movie\n",
        "movies_2020_2[2-1]['genre']"
      ]
    },
    {
      "cell_type": "markdown",
      "metadata": {
        "id": "PRGpBCgHoEo_"
      },
      "source": [
        "## Dictionary of lists ##\n",
        "- Whenever lookup is needed, use a dictionary"
      ]
    },
    {
      "cell_type": "code",
      "execution_count": null,
      "metadata": {
        "id": "_BJzt8IQoIlF",
        "colab": {
          "base_uri": "https://localhost:8080/"
        },
        "outputId": "244033cf-3cdb-4d7e-dd40-a6def4f814c6"
      },
      "outputs": [
        {
          "output_type": "execute_result",
          "data": {
            "text/plain": [
              "{'aatt': [0, 6, 12],\n",
              " 'attg': [1, 7, 13],\n",
              " 'ttgg': [2, 8],\n",
              " 'tgga': [3, 9],\n",
              " 'ggaa': [4, 10],\n",
              " 'gaat': [5, 11]}"
            ]
          },
          "metadata": {},
          "execution_count": 55
        }
      ],
      "source": [
        "#kmer is a nucleotide sequence of a certain length\n",
        "#in this case a kmer length of 4\n",
        "\n",
        "kmer_pos = {\n",
        "    'aatt': [0, 6, 12],\n",
        "    'attg': [1, 7, 13],\n",
        "    'ttgg': [2, 8],\n",
        "    'tgga': [3, 9],\n",
        "    'ggaa': [4, 10],\n",
        "    'gaat': [5, 11]\n",
        "}\n",
        "\n",
        "kmer_pos"
      ]
    },
    {
      "cell_type": "code",
      "execution_count": null,
      "metadata": {
        "id": "8tjZpve4oono",
        "colab": {
          "base_uri": "https://localhost:8080/"
        },
        "outputId": "f22d36b5-177e-438f-f410-6279bf6cc68e"
      },
      "outputs": [
        {
          "output_type": "execute_result",
          "data": {
            "text/plain": [
              "{'drawer': [141, 2, 3], 'hedge': [213, 1, 6], 'pantry': [328, 1, 7]}"
            ]
          },
          "metadata": {},
          "execution_count": 56
        }
      ],
      "source": [
        "#postion of a word in a dictionary\n",
        "dictionary_pos = {\n",
        "    'drawer': [141, 2, 3],\n",
        "    'hedge': [213, 1, 6],\n",
        "    'pantry': [328, 1, 7]\n",
        "}\n",
        "\n",
        "dictionary_pos"
      ]
    },
    {
      "cell_type": "markdown",
      "metadata": {
        "id": "lR6fP8ZGprPe"
      },
      "source": [
        "## Dict of sets ##\n",
        "\n",
        "- Whenever lookup is needed, use a dictionary.\n",
        "- Use a set when you want a non-redundant set of data."
      ]
    },
    {
      "cell_type": "code",
      "execution_count": null,
      "metadata": {
        "id": "tuTHwkPTp8LI",
        "colab": {
          "base_uri": "https://localhost:8080/"
        },
        "outputId": "7b66f518-a8bc-4171-e3f4-90566936fd44"
      },
      "outputs": [
        {
          "output_type": "execute_result",
          "data": {
            "text/plain": [
              "{'Group 1': {'a', 'b', 'c'},\n",
              " 'Group 2': {1, 2, 'e', 'f', 'g'},\n",
              " 'Group 3': {'h', 'i', 'j'}}"
            ]
          },
          "metadata": {},
          "execution_count": 57
        }
      ],
      "source": [
        "groups = {\n",
        "    'Group 1': {'a', 'b', 'c'},\n",
        "    'Group 2': {'e', 'f', 'g', 1, 2},\n",
        "    'Group 3': {'h', 'i', 'j', 'i'}\n",
        "}\n",
        "\n",
        "groups"
      ]
    },
    {
      "cell_type": "markdown",
      "metadata": {
        "id": "NlOOQiWMqPVu"
      },
      "source": [
        "## Dictionary of tuples ##\n",
        "- Whenever lookup is needed, use a dictionary.\n",
        "- Use a tuple only if the record size is small.\n",
        "- It’s not a good idea to store data without the knowing which position of the record is storing what kind of data."
      ]
    },
    {
      "cell_type": "code",
      "execution_count": null,
      "metadata": {
        "id": "eEjb2LnzqseX",
        "colab": {
          "base_uri": "https://localhost:8080/"
        },
        "outputId": "0b688e29-21f3-4562-e959-c5eea97bd811"
      },
      "outputs": [
        {
          "output_type": "execute_result",
          "data": {
            "text/plain": [
              "{'Bad Boys For Life': ('Action', 204417855),\n",
              " '1917': ('Thriller/Suspense', 157901466),\n",
              " 'Sonic the Hedgehob': ('Adventure', 146066470),\n",
              " 'Jumanji: The Next Level': ('Adventure', 124736710)}"
            ]
          },
          "metadata": {},
          "execution_count": 58
        }
      ],
      "source": [
        "#movie: (genre, 2020 gross) according to the-numbers.com\n",
        "movies_2020_3 ={\n",
        "              'Bad Boys For Life': ('Action', 204417855),\n",
        "              '1917': ('Thriller/Suspense', 157901466),\n",
        "              'Sonic the Hedgehob': ('Adventure', 146066470),\n",
        "              'Jumanji: The Next Level': ('Adventure', 124736710)\n",
        "}\n",
        "movies_2020_3"
      ]
    }
  ],
  "metadata": {
    "colab": {
      "provenance": [],
      "include_colab_link": true
    },
    "hide_input": false,
    "kernelspec": {
      "display_name": "Python 3",
      "language": "python",
      "name": "python3"
    },
    "language_info": {
      "codemirror_mode": {
        "name": "ipython",
        "version": 3
      },
      "file_extension": ".py",
      "mimetype": "text/x-python",
      "name": "python",
      "nbconvert_exporter": "python",
      "pygments_lexer": "ipython3",
      "version": "3.8.3"
    },
    "toc": {
      "base_numbering": 1,
      "nav_menu": {},
      "number_sections": true,
      "sideBar": true,
      "skip_h1_title": false,
      "title_cell": "Table of Contents",
      "title_sidebar": "Contents",
      "toc_cell": false,
      "toc_position": {},
      "toc_section_display": true,
      "toc_window_display": false
    }
  },
  "nbformat": 4,
  "nbformat_minor": 0
}