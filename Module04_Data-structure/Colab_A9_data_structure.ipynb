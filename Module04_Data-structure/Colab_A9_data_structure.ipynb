{
  "nbformat": 4,
  "nbformat_minor": 0,
  "metadata": {
    "colab": {
      "provenance": [],
      "include_colab_link": true
    },
    "kernelspec": {
      "name": "python3",
      "display_name": "Python 3"
    },
    "language_info": {
      "name": "python"
    }
  },
  "cells": [
    {
      "cell_type": "markdown",
      "metadata": {
        "id": "view-in-github",
        "colab_type": "text"
      },
      "source": [
        "<a href=\"https://colab.research.google.com/github/Soundarya0512/A1_Python-Review-/blob/main/Module04_Data-structure/Colab_A9_data_structure.ipynb\" target=\"_parent\"><img src=\"https://colab.research.google.com/assets/colab-badge.svg\" alt=\"Open In Colab\"/></a>"
      ]
    },
    {
      "cell_type": "markdown",
      "source": [
        "## **List questions**\n",
        "\n",
        "#### Question 1:\n",
        "Part A: Find the Missing Number  \n",
        "You are given a list of n-1 integers, and these integers are in the range of 1 to n. There are no duplicates in the list. One of the integers is missing. Write a function to find the missing number.\n",
        "\n",
        "Part B: Merge Overlapping Intervals  \n",
        "Given a collection of intervals, merge any overlapping intervals."
      ],
      "metadata": {
        "id": "iEBZ5Ub3pfOi"
      }
    },
    {
      "cell_type": "code",
      "execution_count": 1,
      "metadata": {
        "id": "kYQ76OVTnc8U",
        "outputId": "09582ba9-34f9-41cf-a4fc-55296aabdd78",
        "colab": {
          "base_uri": "https://localhost:8080/"
        }
      },
      "outputs": [
        {
          "output_type": "stream",
          "name": "stdout",
          "text": [
            "5\n",
            "[[1, 6], [8, 10], [15, 18]]\n"
          ]
        }
      ],
      "source": [
        "def find_missing(lst):\n",
        "    # Your code here\n",
        "    lst1=[]\n",
        "    i=1\n",
        "    while i<=len(lst):\n",
        "        if i not in lst:\n",
        "            lst1.append(i)\n",
        "        i=i+1\n",
        "    return lst1\n",
        "\n",
        "lst = [1, 2, 4, 6, 3, 7, 8]\n",
        "missing_number = find_missing(lst)\n",
        "print(' '.join(map(str, missing_number)))\n",
        "\n",
        "#merged\n",
        "intervals = [[1,3],[2,6],[8,10],[15,18]]\n",
        "i=0\n",
        "flag=0\n",
        "start=0\n",
        "end=0\n",
        "lst1=[]\n",
        "current=intervals[0][1]\n",
        "while i<=len(intervals)-2:\n",
        "    lst=[]\n",
        "    if current>=intervals[i+1][0]:\n",
        "        start=intervals[i][0]\n",
        "        end=intervals[i+1][1]\n",
        "        flag=0\n",
        "    else:\n",
        "        start=intervals[i+1][0]\n",
        "        end=intervals[i+1][1]\n",
        "        flag=1\n",
        "    lst.append(start)\n",
        "    lst.append(end)\n",
        "    lst1.append(lst)\n",
        "    if flag==0:\n",
        "        current=lst[-1]\n",
        "    else:\n",
        "        current=intervals[i][1]\n",
        "    i=i+1\n",
        "print(lst1)\n"
      ]
    },
    {
      "cell_type": "markdown",
      "source": [
        "## **Tuple Questions**\n",
        "\n",
        "#### Question 2: Count Elements\n",
        "\n",
        "Write a function that counts the number of elements in a tuple that are greater than a specified value."
      ],
      "metadata": {
        "id": "GXis4SDAr5Oj"
      }
    },
    {
      "cell_type": "code",
      "source": [
        "\n",
        "def count_greater(tup, value):\n",
        "  # Your code here\n",
        "  count=0\n",
        "  i=0\n",
        "  while i<=len(tup)-1:\n",
        "    if tup[i]>value:\n",
        "      count=count+1\n",
        "    i=i+1\n",
        "  print(count)\n",
        "\n",
        "x=(1,2,3,4,5,6,7,8,9,10)\n",
        "y=5\n",
        "count_greater(x,y)"
      ],
      "metadata": {
        "id": "22YInkd8sAYK",
        "outputId": "60a3e045-046f-497f-c947-4f6aef53df16",
        "colab": {
          "base_uri": "https://localhost:8080/"
        }
      },
      "execution_count": null,
      "outputs": [
        {
          "output_type": "stream",
          "name": "stdout",
          "text": [
            "5\n"
          ]
        }
      ]
    },
    {
      "cell_type": "markdown",
      "source": [
        "## **Set Questions**\n",
        "\n",
        "#### Question 3: Maximal Set by Sum\n",
        "\n",
        "Write a function to find the set from a list of sets that has the maximum sum of its elements."
      ],
      "metadata": {
        "id": "5OvDTlSZpmcJ"
      }
    },
    {
      "cell_type": "code",
      "source": [
        "def max_set_by_sum(sets):\n",
        "  # Your code here\n",
        "  i=0\n",
        "  lst=[]\n",
        "  max=sum(x[0])\n",
        "  s=set()\n",
        "  #print(max)\n",
        "  while i<=len(x)-1:\n",
        "      lst.append(sum(x[i]))\n",
        "      if lst[i]>max:\n",
        "          max=lst[i]\n",
        "          s=x[i]\n",
        "      i=i+1\n",
        "  print(s)\n",
        "\n",
        "x = [{1, 2, 3}, {4, 5}, {6, 7, 8}, {10}]\n",
        "max_set_by_sum(x)\n"
      ],
      "metadata": {
        "id": "_kUoA-tEpoFL",
        "outputId": "51c8d4e8-0d0c-4b0c-cf62-add9c458d5b8",
        "colab": {
          "base_uri": "https://localhost:8080/"
        }
      },
      "execution_count": null,
      "outputs": [
        {
          "output_type": "stream",
          "name": "stdout",
          "text": [
            "{8, 6, 7}\n"
          ]
        }
      ]
    },
    {
      "cell_type": "markdown",
      "source": [
        "##**Stack Questions**\n",
        "\n",
        "#### Question 4: Write a function to sort a stack."
      ],
      "metadata": {
        "id": "pPxU7fx6qFxq"
      }
    },
    {
      "cell_type": "code",
      "source": [
        "def sort_stack(stack):\n",
        "  # Your code here\n",
        "\n",
        "stack = [34, 3, 31, 98, 92, 23]\n",
        "print(sort_stack(stack))"
      ],
      "metadata": {
        "id": "M28lHodsqH6A"
      },
      "execution_count": null,
      "outputs": []
    }
  ]
}